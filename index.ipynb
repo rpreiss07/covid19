{
 "cells": [
  {
   "cell_type": "markdown",
   "metadata": {},
   "source": [
    "# Analyzing COVID-19 data"
   ]
  },
  {
   "cell_type": "markdown",
   "metadata": {},
   "source": [
    "The data is dynamically imported from https://raw.githubusercontent.com/CSSEGISandData\n",
    "\n",
    "Read their terms of use! Last time I checked it, it is strictly for public use in academic or research purposes."
   ]
  },
  {
   "cell_type": "markdown",
   "metadata": {},
   "source": [
    "## Import data"
   ]
  },
  {
   "cell_type": "code",
   "execution_count": null,
   "metadata": {
    "collapsed": true
   },
   "outputs": [],
   "source": [
    "import pandas as pd\n",
    "\n",
    "raw_types = [ \"Confirmed\", \"Recovered\", \"Deaths\" ]\n",
    "\n",
    "raw_urls = {}\n",
    "raw_urls[\"Confirmed\"] = \"https://raw.githubusercontent.com/CSSEGISandData/COVID-19/master/csse_covid_19_data/csse_covid_19_time_series/time_series_19-covid-Confirmed.csv\"\n",
    "raw_urls[\"Recovered\"] = \"https://raw.githubusercontent.com/CSSEGISandData/COVID-19/master/csse_covid_19_data/csse_covid_19_time_series/time_series_19-covid-Recovered.csv\"\n",
    "raw_urls[\"Deaths\"] = \"https://raw.githubusercontent.com/CSSEGISandData/COVID-19/master/csse_covid_19_data/csse_covid_19_time_series/time_series_19-covid-Deaths.csv\"\n",
    "\n",
    "raw_df = {}\n",
    "for raw_type in raw_types:\n",
    "    raw_df[raw_type] = pd.read_csv(raw_urls[raw_type])\n"
   ]
  },
  {
   "cell_type": "markdown",
   "metadata": {},
   "source": [
    "Let's have a look which province/states and countries/regions are included. Only a part of the list is shown."
   ]
  },
  {
   "cell_type": "code",
   "execution_count": null,
   "metadata": {},
   "outputs": [],
   "source": [
    "raw_df[raw_types[0]][~pd.notnull(raw_df[raw_types[0]]['Province/State'])]"
   ]
  },
  {
   "cell_type": "markdown",
   "metadata": {},
   "source": [
    "# Adaptation"
   ]
  },
  {
   "cell_type": "markdown",
   "metadata": {},
   "source": [
    "Via the following list you can adapt which countries to be analyzed. \n",
    "\n",
    "Note: For some countries (e.g. China, United States), the input data is further decomposed into provinces/states. These countries are not yet supported here."
   ]
  },
  {
   "cell_type": "code",
   "execution_count": null,
   "metadata": {},
   "outputs": [],
   "source": [
    "countries = [ 'Germany', 'Italy', 'Iran', 'Austria', 'Spain' ]"
   ]
  },
  {
   "cell_type": "markdown",
   "metadata": {},
   "source": [
    "Check that all countries have accociated data."
   ]
  },
  {
   "cell_type": "code",
   "execution_count": null,
   "metadata": {},
   "outputs": [],
   "source": [
    "remove_states = raw_df[raw_types[0]][~pd.notnull(raw_df[raw_types[0]]['Province/State'])]\n",
    "for country in countries:    \n",
    "    filtered = remove_states.loc[remove_states['Country/Region'].eq(country)]\n",
    "    if (filtered.empty):\n",
    "        raise ValueError(\"Country \"+country+\" not found in input data.\")           "
   ]
  },
  {
   "cell_type": "markdown",
   "metadata": {},
   "source": [
    "## Convert Data"
   ]
  },
  {
   "cell_type": "code",
   "execution_count": null,
   "metadata": {},
   "outputs": [],
   "source": [
    "def extract_values(df):\n",
    "    filtered = df[~pd.notnull(df['Province/State']) & df['Country/Region'].eq(country)]\n",
    "    transposed = filtered.drop(['Province/State', 'Country/Region', 'Lat', 'Long'], axis=1).transpose()\n",
    "    values = transposed[transposed.columns[0]]\n",
    "    return values\n",
    "\n",
    "all = {}\n",
    "for country in countries:\n",
    "    dates = raw_df[raw_types[0]].drop(['Province/State', 'Country/Region', 'Lat', 'Long'], axis=1).transpose().index.tolist()\n",
    "    data = {}\n",
    "    for raw_type in raw_types:\n",
    "        values = extract_values(raw_df[raw_type])\n",
    "        data[raw_type] = values\n",
    "    all[country] = pd.DataFrame(data, index=dates)"
   ]
  },
  {
   "cell_type": "markdown",
   "metadata": {},
   "source": [
    "Show intermediate data."
   ]
  },
  {
   "cell_type": "code",
   "execution_count": null,
   "metadata": {},
   "outputs": [],
   "source": [
    "all[countries[0]].tail(10)"
   ]
  },
  {
   "cell_type": "markdown",
   "metadata": {},
   "source": [
    "## Enrich data"
   ]
  },
  {
   "cell_type": "markdown",
   "metadata": {},
   "source": [
    "Enrich by computing Active = Confirmed - (Recovered + Deaths)"
   ]
  },
  {
   "cell_type": "code",
   "execution_count": null,
   "metadata": {},
   "outputs": [],
   "source": [
    "for country in countries:\n",
    "    all[country][\"Active\"] = all[country][\"Confirmed\"] - (all[country][\"Recovered\"] + all[country][\"Deaths\"])\n",
    "\n",
    "raw_types_ext = raw_types\n",
    "raw_types_ext.append(\"Active\")"
   ]
  },
  {
   "cell_type": "markdown",
   "metadata": {},
   "source": [
    "Enrich by computing the rate and moving average on rate."
   ]
  },
  {
   "cell_type": "code",
   "execution_count": null,
   "metadata": {},
   "outputs": [],
   "source": [
    "def addRate(df, label):\n",
    "    df[label+\" Rate\"] = df[label].pct_change()\n",
    "    \n",
    "def addMovAverage(df, label, window_size):\n",
    "    df[label+\" Avg\"] = df[label].rolling(window=window_size,center=False).mean()\n",
    "\n",
    "window_size = 10\n",
    "for country in countries:\n",
    "    for raw_type in raw_types_ext:\n",
    "        addRate(all[country], raw_type)\n",
    "        addMovAverage(all[country], raw_type+\" Rate\", window_size)"
   ]
  },
  {
   "cell_type": "markdown",
   "metadata": {},
   "source": [
    "Show part of final data."
   ]
  },
  {
   "cell_type": "code",
   "execution_count": null,
   "metadata": {},
   "outputs": [],
   "source": [
    "all[countries[0]].tail(10)"
   ]
  },
  {
   "cell_type": "markdown",
   "metadata": {},
   "source": [
    "## Plot data"
   ]
  },
  {
   "cell_type": "code",
   "execution_count": null,
   "metadata": {},
   "outputs": [],
   "source": [
    "all[country].tail(number_of_days).index.tolist"
   ]
  },
  {
   "cell_type": "markdown",
   "metadata": {},
   "source": [
    "Convert input data to a data structure which is better suited for our analysis (Note that lat/long values are dropped here)."
   ]
  },
  {
   "cell_type": "code",
   "execution_count": null,
   "metadata": {},
   "outputs": [],
   "source": [
    "import matplotlib.pyplot as plt\n",
    "import numpy as np\n",
    "\n",
    "number_of_days = 15\n",
    "\n",
    "for country in countries:\n",
    "    ts = all[country][\"Active Rate Avg\"].tail(number_of_days)\n",
    "    pl = ts.plot(label=country+\" Active\")\n",
    "    \n",
    "    # Get color of last plot\n",
    "    cl = plt.gca().lines[-1].get_color()\n",
    "    \n",
    "    ts = all[country][\"Deaths Rate Avg\"].tail(number_of_days)\n",
    "    ts.plot(label=country+\" Deaths\", linestyle='dashed', color=cl)\n",
    "\n",
    "plt.title(\"Change rate (moving average)\")\n",
    "plt.xticks(np.arange(number_of_days), all[country].tail(number_of_days).index.tolist(), \n",
    "           fontsize='small', rotation='vertical')\n",
    "    \n",
    "plt.legend(loc='center left', bbox_to_anchor=(1, 0.5))\n"
   ]
  }
 ],
 "metadata": {
  "kernelspec": {
   "display_name": "Python 3",
   "language": "python",
   "name": "python3"
  },
  "language_info": {
   "codemirror_mode": {
    "name": "ipython",
    "version": 3
   },
   "file_extension": ".py",
   "mimetype": "text/x-python",
   "name": "python",
   "nbconvert_exporter": "python",
   "pygments_lexer": "ipython3",
   "version": "3.6.5"
  }
 },
 "nbformat": 4,
 "nbformat_minor": 2
}
